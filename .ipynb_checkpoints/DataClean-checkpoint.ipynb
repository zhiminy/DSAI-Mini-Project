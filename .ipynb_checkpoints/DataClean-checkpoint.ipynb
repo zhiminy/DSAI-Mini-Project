{
 "cells": [
  {
   "cell_type": "markdown",
   "metadata": {},
   "source": [
    "# Data acquisition and Basic Descriptions"
   ]
  },
  {
   "cell_type": "code",
   "execution_count": 1,
   "metadata": {},
   "outputs": [],
   "source": [
    "# Importing Basic Libraries\n",
    "import numpy as np\n",
    "import pandas as pd\n",
    "import seaborn as sb\n",
    "import matplotlib.pyplot as plt\n",
    "sb.set() "
   ]
  },
  {
   "cell_type": "code",
   "execution_count": 2,
   "metadata": {},
   "outputs": [],
   "source": [
    "# Importing the dataset\n",
    "url = 'https://raw.githubusercontent.com/zzzhimin/DSAI-Mini-Project/master/AviationData.csv'\n",
    "baseData = pd.read_csv(url,encoding = \"ISO-8859-1\")"
   ]
  },
  {
   "cell_type": "code",
   "execution_count": 3,
   "metadata": {},
   "outputs": [
    {
     "data": {
      "text/plain": [
       "(84262, 31)"
      ]
     },
     "execution_count": 3,
     "metadata": {},
     "output_type": "execute_result"
    }
   ],
   "source": [
    "baseData.shape"
   ]
  },
  {
   "cell_type": "code",
   "execution_count": 4,
   "metadata": {},
   "outputs": [
    {
     "data": {
      "text/html": [
       "<div>\n",
       "<style scoped>\n",
       "    .dataframe tbody tr th:only-of-type {\n",
       "        vertical-align: middle;\n",
       "    }\n",
       "\n",
       "    .dataframe tbody tr th {\n",
       "        vertical-align: top;\n",
       "    }\n",
       "\n",
       "    .dataframe thead th {\n",
       "        text-align: right;\n",
       "    }\n",
       "</style>\n",
       "<table border=\"1\" class=\"dataframe\">\n",
       "  <thead>\n",
       "    <tr style=\"text-align: right;\">\n",
       "      <th></th>\n",
       "      <th>Event.Id</th>\n",
       "      <th>Investigation.Type</th>\n",
       "      <th>Accident.Number</th>\n",
       "      <th>Event.Date</th>\n",
       "      <th>Location</th>\n",
       "      <th>Country</th>\n",
       "      <th>Latitude</th>\n",
       "      <th>Longitude</th>\n",
       "      <th>Airport.Code</th>\n",
       "      <th>Airport.Name</th>\n",
       "      <th>...</th>\n",
       "      <th>Purpose.of.Flight</th>\n",
       "      <th>Air.Carrier</th>\n",
       "      <th>Total.Fatal.Injuries</th>\n",
       "      <th>Total.Serious.Injuries</th>\n",
       "      <th>Total.Minor.Injuries</th>\n",
       "      <th>Total.Uninjured</th>\n",
       "      <th>Weather.Condition</th>\n",
       "      <th>Broad.Phase.of.Flight</th>\n",
       "      <th>Report.Status</th>\n",
       "      <th>Publication.Date</th>\n",
       "    </tr>\n",
       "  </thead>\n",
       "  <tbody>\n",
       "    <tr>\n",
       "      <th>0</th>\n",
       "      <td>20200102X82407</td>\n",
       "      <td>Accident</td>\n",
       "      <td>WPR20CA055</td>\n",
       "      <td>2019-12-31</td>\n",
       "      <td>Elk, CA</td>\n",
       "      <td>United States</td>\n",
       "      <td>39.128611</td>\n",
       "      <td>-123.715833</td>\n",
       "      <td>LLR</td>\n",
       "      <td>Little River</td>\n",
       "      <td>...</td>\n",
       "      <td>Personal</td>\n",
       "      <td>NaN</td>\n",
       "      <td>NaN</td>\n",
       "      <td>NaN</td>\n",
       "      <td>NaN</td>\n",
       "      <td>1.0</td>\n",
       "      <td>VMC</td>\n",
       "      <td>TAKEOFF</td>\n",
       "      <td>Factual</td>\n",
       "      <td>13/01/2020</td>\n",
       "    </tr>\n",
       "    <tr>\n",
       "      <th>1</th>\n",
       "      <td>20191231X83852</td>\n",
       "      <td>Accident</td>\n",
       "      <td>CEN20FA049</td>\n",
       "      <td>2019-12-31</td>\n",
       "      <td>OLATHE, KS</td>\n",
       "      <td>United States</td>\n",
       "      <td>38.846111</td>\n",
       "      <td>-94.736111</td>\n",
       "      <td>OJC</td>\n",
       "      <td>Johnson County Executive</td>\n",
       "      <td>...</td>\n",
       "      <td>Personal</td>\n",
       "      <td>NaN</td>\n",
       "      <td>2.0</td>\n",
       "      <td>NaN</td>\n",
       "      <td>NaN</td>\n",
       "      <td>NaN</td>\n",
       "      <td>VMC</td>\n",
       "      <td>TAKEOFF</td>\n",
       "      <td>Preliminary</td>\n",
       "      <td>08/01/2020</td>\n",
       "    </tr>\n",
       "    <tr>\n",
       "      <th>2</th>\n",
       "      <td>20200102X54844</td>\n",
       "      <td>Accident</td>\n",
       "      <td>ANC20CA011</td>\n",
       "      <td>2019-12-31</td>\n",
       "      <td>Fairbanks, AK</td>\n",
       "      <td>United States</td>\n",
       "      <td>64.666945</td>\n",
       "      <td>-148.133334</td>\n",
       "      <td>NaN</td>\n",
       "      <td>NaN</td>\n",
       "      <td>...</td>\n",
       "      <td>Personal</td>\n",
       "      <td>NaN</td>\n",
       "      <td>NaN</td>\n",
       "      <td>NaN</td>\n",
       "      <td>NaN</td>\n",
       "      <td>2.0</td>\n",
       "      <td>NaN</td>\n",
       "      <td>NaN</td>\n",
       "      <td>Preliminary</td>\n",
       "      <td>02/01/2020</td>\n",
       "    </tr>\n",
       "    <tr>\n",
       "      <th>3</th>\n",
       "      <td>20191230X91852</td>\n",
       "      <td>Accident</td>\n",
       "      <td>CEN20CA048</td>\n",
       "      <td>2019-12-30</td>\n",
       "      <td>GRANBURY, TX</td>\n",
       "      <td>United States</td>\n",
       "      <td>32.365556</td>\n",
       "      <td>-97.645000</td>\n",
       "      <td>NaN</td>\n",
       "      <td>NaN</td>\n",
       "      <td>...</td>\n",
       "      <td>Personal</td>\n",
       "      <td>NaN</td>\n",
       "      <td>NaN</td>\n",
       "      <td>NaN</td>\n",
       "      <td>NaN</td>\n",
       "      <td>1.0</td>\n",
       "      <td>NaN</td>\n",
       "      <td>NaN</td>\n",
       "      <td>Preliminary</td>\n",
       "      <td>31/12/2019</td>\n",
       "    </tr>\n",
       "    <tr>\n",
       "      <th>4</th>\n",
       "      <td>20191228X62945</td>\n",
       "      <td>NaN</td>\n",
       "      <td>WPR20CA053</td>\n",
       "      <td>2019-12-28</td>\n",
       "      <td>Missoula, MT</td>\n",
       "      <td>United States</td>\n",
       "      <td>NaN</td>\n",
       "      <td>NaN</td>\n",
       "      <td>MSO</td>\n",
       "      <td>NaN</td>\n",
       "      <td>...</td>\n",
       "      <td>NaN</td>\n",
       "      <td>NaN</td>\n",
       "      <td>NaN</td>\n",
       "      <td>NaN</td>\n",
       "      <td>NaN</td>\n",
       "      <td>NaN</td>\n",
       "      <td>NaN</td>\n",
       "      <td>NaN</td>\n",
       "      <td>Preliminary</td>\n",
       "      <td>03/01/2020</td>\n",
       "    </tr>\n",
       "  </tbody>\n",
       "</table>\n",
       "<p>5 rows × 31 columns</p>\n",
       "</div>"
      ],
      "text/plain": [
       "         Event.Id Investigation.Type Accident.Number  Event.Date  \\\n",
       "0  20200102X82407           Accident      WPR20CA055  2019-12-31   \n",
       "1  20191231X83852           Accident      CEN20FA049  2019-12-31   \n",
       "2  20200102X54844           Accident      ANC20CA011  2019-12-31   \n",
       "3  20191230X91852           Accident      CEN20CA048  2019-12-30   \n",
       "4  20191228X62945                NaN      WPR20CA053  2019-12-28   \n",
       "\n",
       "        Location        Country   Latitude   Longitude Airport.Code  \\\n",
       "0        Elk, CA  United States  39.128611 -123.715833          LLR   \n",
       "1     OLATHE, KS  United States  38.846111  -94.736111          OJC   \n",
       "2  Fairbanks, AK  United States  64.666945 -148.133334          NaN   \n",
       "3   GRANBURY, TX  United States  32.365556  -97.645000          NaN   \n",
       "4   Missoula, MT  United States        NaN         NaN          MSO   \n",
       "\n",
       "               Airport.Name       ...        Purpose.of.Flight Air.Carrier  \\\n",
       "0              Little River       ...                 Personal         NaN   \n",
       "1  Johnson County Executive       ...                 Personal         NaN   \n",
       "2                       NaN       ...                 Personal         NaN   \n",
       "3                       NaN       ...                 Personal         NaN   \n",
       "4                       NaN       ...                      NaN         NaN   \n",
       "\n",
       "  Total.Fatal.Injuries Total.Serious.Injuries Total.Minor.Injuries  \\\n",
       "0                  NaN                    NaN                  NaN   \n",
       "1                  2.0                    NaN                  NaN   \n",
       "2                  NaN                    NaN                  NaN   \n",
       "3                  NaN                    NaN                  NaN   \n",
       "4                  NaN                    NaN                  NaN   \n",
       "\n",
       "  Total.Uninjured Weather.Condition  Broad.Phase.of.Flight Report.Status  \\\n",
       "0             1.0               VMC                TAKEOFF       Factual   \n",
       "1             NaN               VMC                TAKEOFF   Preliminary   \n",
       "2             2.0               NaN                    NaN   Preliminary   \n",
       "3             1.0               NaN                    NaN   Preliminary   \n",
       "4             NaN               NaN                    NaN   Preliminary   \n",
       "\n",
       "  Publication.Date  \n",
       "0       13/01/2020  \n",
       "1       08/01/2020  \n",
       "2       02/01/2020  \n",
       "3       31/12/2019  \n",
       "4       03/01/2020  \n",
       "\n",
       "[5 rows x 31 columns]"
      ]
     },
     "execution_count": 4,
     "metadata": {},
     "output_type": "execute_result"
    }
   ],
   "source": [
    "baseData.head()"
   ]
  },
  {
   "cell_type": "code",
   "execution_count": 5,
   "metadata": {},
   "outputs": [
    {
     "data": {
      "text/plain": [
       "Event.Id                   object\n",
       "Investigation.Type         object\n",
       "Accident.Number            object\n",
       "Event.Date                 object\n",
       "Location                   object\n",
       "Country                    object\n",
       "Latitude                  float64\n",
       "Longitude                 float64\n",
       "Airport.Code               object\n",
       "Airport.Name               object\n",
       "Injury.Severity            object\n",
       "Aircraft.Damage            object\n",
       "Aircraft.Category          object\n",
       "Registration.Number        object\n",
       "Make                       object\n",
       "Model                      object\n",
       "Amateur.Built              object\n",
       "Number.of.Engines         float64\n",
       "Engine.Type                object\n",
       "FAR.Description            object\n",
       "Schedule                   object\n",
       "Purpose.of.Flight          object\n",
       "Air.Carrier                object\n",
       "Total.Fatal.Injuries      float64\n",
       "Total.Serious.Injuries    float64\n",
       "Total.Minor.Injuries      float64\n",
       "Total.Uninjured           float64\n",
       "Weather.Condition          object\n",
       "Broad.Phase.of.Flight      object\n",
       "Report.Status              object\n",
       "Publication.Date           object\n",
       "dtype: object"
      ]
     },
     "execution_count": 5,
     "metadata": {},
     "output_type": "execute_result"
    }
   ],
   "source": [
    "baseData.dtypes"
   ]
  },
  {
   "cell_type": "code",
   "execution_count": 6,
   "metadata": {},
   "outputs": [
    {
     "name": "stdout",
     "output_type": "stream",
     "text": [
      "<class 'pandas.core.frame.DataFrame'>\n",
      "RangeIndex: 84262 entries, 0 to 84261\n",
      "Data columns (total 31 columns):\n",
      "Event.Id                  84262 non-null object\n",
      "Investigation.Type        84257 non-null object\n",
      "Accident.Number           84262 non-null object\n",
      "Event.Date                84262 non-null object\n",
      "Location                  84185 non-null object\n",
      "Country                   83755 non-null object\n",
      "Latitude                  30163 non-null float64\n",
      "Longitude                 30154 non-null float64\n",
      "Airport.Code              47723 non-null object\n",
      "Airport.Name              50439 non-null object\n",
      "Injury.Severity           84262 non-null object\n",
      "Aircraft.Damage           81553 non-null object\n",
      "Aircraft.Category         27508 non-null object\n",
      "Registration.Number       80412 non-null object\n",
      "Make                      84192 non-null object\n",
      "Model                     84163 non-null object\n",
      "Amateur.Built             83653 non-null object\n",
      "Number.of.Engines         79228 non-null float64\n",
      "Engine.Type               80006 non-null object\n",
      "FAR.Description           27206 non-null object\n",
      "Schedule                  11843 non-null object\n",
      "Purpose.of.Flight         79382 non-null object\n",
      "Air.Carrier               4169 non-null object\n",
      "Total.Fatal.Injuries      57059 non-null float64\n",
      "Total.Serious.Injuries    54384 non-null float64\n",
      "Total.Minor.Injuries      55592 non-null float64\n",
      "Total.Uninjured           69673 non-null float64\n",
      "Weather.Condition         81159 non-null object\n",
      "Broad.Phase.of.Flight     77654 non-null object\n",
      "Report.Status             84262 non-null object\n",
      "Publication.Date          69947 non-null object\n",
      "dtypes: float64(7), object(24)\n",
      "memory usage: 19.9+ MB\n"
     ]
    }
   ],
   "source": [
    "baseData.info()"
   ]
  },
  {
   "cell_type": "code",
   "execution_count": 7,
   "metadata": {},
   "outputs": [
    {
     "data": {
      "text/html": [
       "<div>\n",
       "<style scoped>\n",
       "    .dataframe tbody tr th:only-of-type {\n",
       "        vertical-align: middle;\n",
       "    }\n",
       "\n",
       "    .dataframe tbody tr th {\n",
       "        vertical-align: top;\n",
       "    }\n",
       "\n",
       "    .dataframe thead th {\n",
       "        text-align: right;\n",
       "    }\n",
       "</style>\n",
       "<table border=\"1\" class=\"dataframe\">\n",
       "  <thead>\n",
       "    <tr style=\"text-align: right;\">\n",
       "      <th></th>\n",
       "      <th>Latitude</th>\n",
       "      <th>Longitude</th>\n",
       "      <th>Number.of.Engines</th>\n",
       "      <th>Total.Fatal.Injuries</th>\n",
       "      <th>Total.Serious.Injuries</th>\n",
       "      <th>Total.Minor.Injuries</th>\n",
       "      <th>Total.Uninjured</th>\n",
       "    </tr>\n",
       "  </thead>\n",
       "  <tbody>\n",
       "    <tr>\n",
       "      <th>count</th>\n",
       "      <td>30163.000000</td>\n",
       "      <td>30154.000000</td>\n",
       "      <td>79228.000000</td>\n",
       "      <td>57059.000000</td>\n",
       "      <td>54384.000000</td>\n",
       "      <td>55592.000000</td>\n",
       "      <td>69673.000000</td>\n",
       "    </tr>\n",
       "    <tr>\n",
       "      <th>mean</th>\n",
       "      <td>37.544907</td>\n",
       "      <td>-93.508337</td>\n",
       "      <td>1.146930</td>\n",
       "      <td>0.847614</td>\n",
       "      <td>0.331715</td>\n",
       "      <td>0.518708</td>\n",
       "      <td>5.901325</td>\n",
       "    </tr>\n",
       "    <tr>\n",
       "      <th>std</th>\n",
       "      <td>12.370282</td>\n",
       "      <td>39.454412</td>\n",
       "      <td>0.447004</td>\n",
       "      <td>6.292468</td>\n",
       "      <td>1.375602</td>\n",
       "      <td>2.771339</td>\n",
       "      <td>29.534302</td>\n",
       "    </tr>\n",
       "    <tr>\n",
       "      <th>min</th>\n",
       "      <td>-78.016945</td>\n",
       "      <td>-178.676111</td>\n",
       "      <td>0.000000</td>\n",
       "      <td>0.000000</td>\n",
       "      <td>0.000000</td>\n",
       "      <td>0.000000</td>\n",
       "      <td>0.000000</td>\n",
       "    </tr>\n",
       "    <tr>\n",
       "      <th>25%</th>\n",
       "      <td>33.307778</td>\n",
       "      <td>-114.861042</td>\n",
       "      <td>1.000000</td>\n",
       "      <td>0.000000</td>\n",
       "      <td>0.000000</td>\n",
       "      <td>0.000000</td>\n",
       "      <td>0.000000</td>\n",
       "    </tr>\n",
       "    <tr>\n",
       "      <th>50%</th>\n",
       "      <td>38.125278</td>\n",
       "      <td>-94.371667</td>\n",
       "      <td>1.000000</td>\n",
       "      <td>0.000000</td>\n",
       "      <td>0.000000</td>\n",
       "      <td>0.000000</td>\n",
       "      <td>1.000000</td>\n",
       "    </tr>\n",
       "    <tr>\n",
       "      <th>75%</th>\n",
       "      <td>42.524723</td>\n",
       "      <td>-81.650278</td>\n",
       "      <td>1.000000</td>\n",
       "      <td>1.000000</td>\n",
       "      <td>0.000000</td>\n",
       "      <td>1.000000</td>\n",
       "      <td>2.000000</td>\n",
       "    </tr>\n",
       "    <tr>\n",
       "      <th>max</th>\n",
       "      <td>89.218056</td>\n",
       "      <td>179.618611</td>\n",
       "      <td>8.000000</td>\n",
       "      <td>349.000000</td>\n",
       "      <td>111.000000</td>\n",
       "      <td>380.000000</td>\n",
       "      <td>699.000000</td>\n",
       "    </tr>\n",
       "  </tbody>\n",
       "</table>\n",
       "</div>"
      ],
      "text/plain": [
       "           Latitude     Longitude  Number.of.Engines  Total.Fatal.Injuries  \\\n",
       "count  30163.000000  30154.000000       79228.000000          57059.000000   \n",
       "mean      37.544907    -93.508337           1.146930              0.847614   \n",
       "std       12.370282     39.454412           0.447004              6.292468   \n",
       "min      -78.016945   -178.676111           0.000000              0.000000   \n",
       "25%       33.307778   -114.861042           1.000000              0.000000   \n",
       "50%       38.125278    -94.371667           1.000000              0.000000   \n",
       "75%       42.524723    -81.650278           1.000000              1.000000   \n",
       "max       89.218056    179.618611           8.000000            349.000000   \n",
       "\n",
       "       Total.Serious.Injuries  Total.Minor.Injuries  Total.Uninjured  \n",
       "count            54384.000000          55592.000000     69673.000000  \n",
       "mean                 0.331715              0.518708         5.901325  \n",
       "std                  1.375602              2.771339        29.534302  \n",
       "min                  0.000000              0.000000         0.000000  \n",
       "25%                  0.000000              0.000000         0.000000  \n",
       "50%                  0.000000              0.000000         1.000000  \n",
       "75%                  0.000000              1.000000         2.000000  \n",
       "max                111.000000            380.000000       699.000000  "
      ]
     },
     "execution_count": 7,
     "metadata": {},
     "output_type": "execute_result"
    }
   ],
   "source": [
    "baseData.describe() #Description of numeric data"
   ]
  },
  {
   "cell_type": "code",
   "execution_count": 8,
   "metadata": {},
   "outputs": [
    {
     "name": "stdout",
     "output_type": "stream",
     "text": [
      "count              84262\n",
      "unique             83035\n",
      "top       20001214X45071\n",
      "freq                   3\n",
      "Name: Event.Id, dtype: object \n",
      "\n",
      "\n",
      "count        84257\n",
      "unique           2\n",
      "top       Accident\n",
      "freq         80814\n",
      "Name: Investigation.Type, dtype: object \n",
      "\n",
      "\n",
      "count          84262\n",
      "unique         84262\n",
      "top       FTW84LAMS1\n",
      "freq               1\n",
      "Name: Accident.Number, dtype: object \n",
      "\n",
      "\n",
      "count          84262\n",
      "unique         13718\n",
      "top       1984-06-30\n",
      "freq              25\n",
      "Name: Event.Date, dtype: object \n",
      "\n",
      "\n",
      "count             84185\n",
      "unique            26575\n",
      "top       ANCHORAGE, AK\n",
      "freq                372\n",
      "Name: Location, dtype: object \n",
      "\n",
      "\n",
      "count             83755\n",
      "unique              179\n",
      "top       United States\n",
      "freq              78849\n",
      "Name: Country, dtype: object \n",
      "\n",
      "\n",
      "count     47723\n",
      "unique    10019\n",
      "top        NONE\n",
      "freq       1473\n",
      "Name: Airport.Code, dtype: object \n",
      "\n",
      "\n",
      "count       50439\n",
      "unique      23863\n",
      "top       PRIVATE\n",
      "freq          217\n",
      "Name: Airport.Name, dtype: object \n",
      "\n",
      "\n",
      "count         84262\n",
      "unique          128\n",
      "top       Non-Fatal\n",
      "freq          63516\n",
      "Name: Injury.Severity, dtype: object \n",
      "\n",
      "\n",
      "count           81553\n",
      "unique              3\n",
      "top       Substantial\n",
      "freq            60839\n",
      "Name: Aircraft.Damage, dtype: object \n",
      "\n",
      "\n",
      "count        27508\n",
      "unique          13\n",
      "top       Airplane\n",
      "freq         23569\n",
      "Name: Aircraft.Category, dtype: object \n",
      "\n",
      "\n",
      "count     80412\n",
      "unique    72557\n",
      "top        NONE\n",
      "freq        368\n",
      "Name: Registration.Number, dtype: object \n",
      "\n",
      "\n",
      "count      84192\n",
      "unique      8022\n",
      "top       CESSNA\n",
      "freq       17782\n",
      "Name: Make, dtype: object \n",
      "\n",
      "\n",
      "count     84163\n",
      "unique    11938\n",
      "top         152\n",
      "freq       2332\n",
      "Name: Model, dtype: object \n",
      "\n",
      "\n",
      "count     83653\n",
      "unique        2\n",
      "top          No\n",
      "freq      75570\n",
      "Name: Amateur.Built, dtype: object \n",
      "\n",
      "\n",
      "count             80006\n",
      "unique               13\n",
      "top       Reciprocating\n",
      "freq              68026\n",
      "Name: Engine.Type, dtype: object \n",
      "\n",
      "\n",
      "count                         27206\n",
      "unique                           18\n",
      "top       Part 91: General Aviation\n",
      "freq                          21600\n",
      "Name: FAR.Description, dtype: object \n",
      "\n",
      "\n",
      "count     11843\n",
      "unique        3\n",
      "top         UNK\n",
      "freq       4099\n",
      "Name: Schedule, dtype: object \n",
      "\n",
      "\n",
      "count        79382\n",
      "unique          22\n",
      "top       Personal\n",
      "freq         47204\n",
      "Name: Purpose.of.Flight, dtype: object \n",
      "\n",
      "\n",
      "count                4169\n",
      "unique               3030\n",
      "top       UNITED AIRLINES\n",
      "freq                   49\n",
      "Name: Air.Carrier, dtype: object \n",
      "\n",
      "\n",
      "count     81159\n",
      "unique        3\n",
      "top         VMC\n",
      "freq      74257\n",
      "Name: Weather.Condition, dtype: object \n",
      "\n",
      "\n",
      "count       77654\n",
      "unique         12\n",
      "top       LANDING\n",
      "freq        20625\n",
      "Name: Broad.Phase.of.Flight, dtype: object \n",
      "\n",
      "\n",
      "count              84262\n",
      "unique                 4\n",
      "top       Probable Cause\n",
      "freq               77216\n",
      "Name: Report.Status, dtype: object \n",
      "\n",
      "\n",
      "count          69947\n",
      "unique          3956\n",
      "top       31/03/1993\n",
      "freq             452\n",
      "Name: Publication.Date, dtype: object \n",
      "\n",
      "\n"
     ]
    }
   ],
   "source": [
    "#description of non numeric data\n",
    "for i in baseData:\n",
    "    if baseData[i].dtypes != 'float64':\n",
    "        print(baseData[i].describe(), '\\n\\n')"
   ]
  },
  {
   "cell_type": "markdown",
   "metadata": {},
   "source": [
    "# Extraction and Data Cleanup"
   ]
  },
  {
   "cell_type": "code",
   "execution_count": 9,
   "metadata": {},
   "outputs": [],
   "source": [
    "aviationData = pd.DataFrame(baseData[['Latitude', 'Longitude', 'Injury.Severity', 'Aircraft.Damage', 'Aircraft.Category', 'Number.of.Engines', 'Engine.Type', 'FAR.Description', 'Purpose.of.Flight', 'Total.Fatal.Injuries', 'Total.Serious.Injuries', 'Total.Minor.Injuries', 'Total.Uninjured', 'Weather.Condition', 'Broad.Phase.of.Flight', 'Amateur.Built']])"
   ]
  },
  {
   "cell_type": "code",
   "execution_count": 10,
   "metadata": {},
   "outputs": [
    {
     "data": {
      "text/plain": [
       "Latitude                  float64\n",
       "Longitude                 float64\n",
       "Injury.Severity            object\n",
       "Aircraft.Damage            object\n",
       "Aircraft.Category          object\n",
       "Number.of.Engines         float64\n",
       "Engine.Type                object\n",
       "FAR.Description            object\n",
       "Purpose.of.Flight          object\n",
       "Total.Fatal.Injuries      float64\n",
       "Total.Serious.Injuries    float64\n",
       "Total.Minor.Injuries      float64\n",
       "Total.Uninjured           float64\n",
       "Weather.Condition          object\n",
       "Broad.Phase.of.Flight      object\n",
       "Amateur.Built              object\n",
       "dtype: object"
      ]
     },
     "execution_count": 10,
     "metadata": {},
     "output_type": "execute_result"
    }
   ],
   "source": [
    "#We will only be studying Proffessional Built airplane data\n",
    "for index, row in aviationData.iterrows():\n",
    "    if(aviationData.at[index, 'Total.Fatal.Injuries'] > 40 or aviationData.at[index, 'Total.Serious.Injuries'] > 40 or aviationData.at[index, 'Total.Minor.Injuries'] > 40 or aviationData.at[index, 'Total.Uninjured'] > 50):\n",
    "        aviationData.at[index, 'Aircraft.Category'] = 'Airplane'\n",
    "aviationData = aviationData[aviationData['Aircraft.Category'] == 'Airplane']\n",
    "aviationData = aviationData[aviationData['Amateur.Built'] == 'No']\n",
    "aviationData.dtypes"
   ]
  },
  {
   "cell_type": "code",
   "execution_count": 11,
   "metadata": {},
   "outputs": [],
   "source": [
    "for index, row in aviationData.iterrows():\n",
    "    if(aviationData.at[index, 'Injury.Severity'] == 'FATAL' and aviationData.at[index, 'Total.Fatal.Injuries'] >= 40):\n",
    "        print(aviationData.at[index, 'Broad.Phase.of.Flight'])"
   ]
  },
  {
   "cell_type": "code",
   "execution_count": 12,
   "metadata": {},
   "outputs": [
    {
     "data": {
      "text/html": [
       "<div>\n",
       "<style scoped>\n",
       "    .dataframe tbody tr th:only-of-type {\n",
       "        vertical-align: middle;\n",
       "    }\n",
       "\n",
       "    .dataframe tbody tr th {\n",
       "        vertical-align: top;\n",
       "    }\n",
       "\n",
       "    .dataframe thead th {\n",
       "        text-align: right;\n",
       "    }\n",
       "</style>\n",
       "<table border=\"1\" class=\"dataframe\">\n",
       "  <thead>\n",
       "    <tr style=\"text-align: right;\">\n",
       "      <th></th>\n",
       "      <th>Latitude</th>\n",
       "      <th>Longitude</th>\n",
       "      <th>Injury.Severity</th>\n",
       "      <th>Aircraft.Damage</th>\n",
       "      <th>Aircraft.Category</th>\n",
       "      <th>Number.of.Engines</th>\n",
       "      <th>Engine.Type</th>\n",
       "      <th>FAR.Description</th>\n",
       "      <th>Purpose.of.Flight</th>\n",
       "      <th>Total.Fatal.Injuries</th>\n",
       "      <th>Total.Serious.Injuries</th>\n",
       "      <th>Total.Minor.Injuries</th>\n",
       "      <th>Total.Uninjured</th>\n",
       "      <th>Weather.Condition</th>\n",
       "      <th>Broad.Phase.of.Flight</th>\n",
       "      <th>Amateur.Built</th>\n",
       "    </tr>\n",
       "  </thead>\n",
       "  <tbody>\n",
       "    <tr>\n",
       "      <th>0</th>\n",
       "      <td>33.871945</td>\n",
       "      <td>-112.0825</td>\n",
       "      <td>Non-Fatal</td>\n",
       "      <td>Substantial</td>\n",
       "      <td>Airplane</td>\n",
       "      <td>1.0</td>\n",
       "      <td>Reciprocating</td>\n",
       "      <td>Part 91: General Aviation</td>\n",
       "      <td>Personal</td>\n",
       "      <td>0.0</td>\n",
       "      <td>0.0</td>\n",
       "      <td>0.0</td>\n",
       "      <td>1.0</td>\n",
       "      <td>VMC</td>\n",
       "      <td>LANDING</td>\n",
       "      <td>No</td>\n",
       "    </tr>\n",
       "  </tbody>\n",
       "</table>\n",
       "</div>"
      ],
      "text/plain": [
       "    Latitude  Longitude Injury.Severity Aircraft.Damage Aircraft.Category  \\\n",
       "0  33.871945  -112.0825       Non-Fatal     Substantial          Airplane   \n",
       "\n",
       "   Number.of.Engines    Engine.Type            FAR.Description  \\\n",
       "0                1.0  Reciprocating  Part 91: General Aviation   \n",
       "\n",
       "  Purpose.of.Flight  Total.Fatal.Injuries  Total.Serious.Injuries  \\\n",
       "0          Personal                   0.0                     0.0   \n",
       "\n",
       "   Total.Minor.Injuries  Total.Uninjured Weather.Condition  \\\n",
       "0                   0.0              1.0               VMC   \n",
       "\n",
       "  Broad.Phase.of.Flight Amateur.Built  \n",
       "0               LANDING            No  "
      ]
     },
     "execution_count": 12,
     "metadata": {},
     "output_type": "execute_result"
    }
   ],
   "source": [
    "aviationData.mode()"
   ]
  },
  {
   "cell_type": "code",
   "execution_count": 13,
   "metadata": {},
   "outputs": [],
   "source": [
    "#Enter 0 in the numeric fields that are represented by NaN\n",
    "for i in aviationData:\n",
    "    if(aviationData[i].dtypes == 'float64' and i != 'Latitude' and i != 'Longitude'):\n",
    "        aviationData[i] = aviationData[i].fillna(0)\n",
    "\n",
    "for index, row in aviationData.iterrows():\n",
    "    if(aviationData.at[index, 'Total.Fatal.Injuries'] > 40 or aviationData.at[index, 'Total.Serious.Injuries'] > 40 or aviationData.at[index, 'Total.Minor.Injuries'] > 40 or aviationData.at[index, 'Total.Uninjured'] > 40):\n",
    "        if(pd.isnull(aviationData.at[index,'Latitude'])):\n",
    "            aviationData.at[index, 'Latitude'] = aviationData['Latitude'].mean()  \n",
    "            \n",
    "        if(pd.isnull(aviationData.at[index,'Longitude'])):\n",
    "            aviationData.at[index, 'Longitude'] = aviationData['Longitude'].mean()\n",
    "        \n",
    "        if(pd.isnull(aviationData.at[index,'Aircraft.Damage'])):\n",
    "            aviationData.at[index, 'Aircraft.Damage'] = 'Substantial'\n",
    "            \n",
    "        if(pd.isnull(aviationData.at[index,'Engine.Type'])):\n",
    "            aviationData.at[index, 'Engine.Type'] = 'Reciprocating'\n",
    "            \n",
    "        if(pd.isnull(aviationData.at[index,'FAR.Description'])):\n",
    "            aviationData.at[index, 'FAR.Description'] = 'Part 91: General Aviation'\n",
    "        \n",
    "        if(pd.isnull(aviationData.at[index,'Purpose.of.Flight'])):\n",
    "            aviationData.at[index, 'Purpose.of.Flight'] = 'Unknown'\n",
    "        \n",
    "        if(pd.isnull(aviationData.at[index,'Weather.Condition'])):\n",
    "            aviationData.at[index, 'Weather.Condition'] = 'VMC'\n",
    "        \n",
    "        if(pd.isnull(aviationData.at[index,'Broad.Phase.of.Flight'])):\n",
    "            aviationData.at[index, 'Broad.Phase.of.Flight'] = 'Approach'"
   ]
  },
  {
   "cell_type": "code",
   "execution_count": 14,
   "metadata": {},
   "outputs": [],
   "source": [
    "#Removing the rows with incomplete data that will be relevant to the task \n",
    "aviationData = aviationData.dropna()"
   ]
  },
  {
   "cell_type": "code",
   "execution_count": 15,
   "metadata": {},
   "outputs": [],
   "source": [
    "#Removing rows where the passenger and injury data is incomplete\n",
    "for index, row in aviationData.iterrows():\n",
    "    if(row['Total.Uninjured'] + row['Total.Serious.Injuries'] + row['Total.Fatal.Injuries'] + row['Total.Minor.Injuries'] == 0):\n",
    "        aviationData = aviationData.drop(index)"
   ]
  },
  {
   "cell_type": "code",
   "execution_count": 16,
   "metadata": {},
   "outputs": [],
   "source": [
    "#Dealing with redundancies and incomplete rows in the data\n",
    "for i in aviationData:\n",
    "    if(aviationData[i].dtypes != 'float64'):\n",
    "        aviationData[i] = aviationData[i].str.upper()\n",
    "        \n",
    "for index, row in aviationData.iterrows():\n",
    "    if(row['Injury.Severity'] != 'NON-FATAL' and row['Injury.Severity'] != 'INCIDENT'):\n",
    "        aviationData.at[index, 'Injury.Severity'] = 'FATAL'\n",
    "        \n",
    "for index, row in aviationData.iterrows():\n",
    "    if(row['Number.of.Engines'] == 0):\n",
    "        aviationData.at[index, 'Number.of.Engines'] = 1"
   ]
  },
  {
   "cell_type": "code",
   "execution_count": 17,
   "metadata": {},
   "outputs": [],
   "source": [
    "#Converting select numeric data to type int\n",
    "for i in aviationData:\n",
    "    if(aviationData[i].dtypes == 'float64' and i != 'Latitude' and i != 'Longitude'):\n",
    "        aviationData[i] = aviationData[i].astype('int64')"
   ]
  },
  {
   "cell_type": "code",
   "execution_count": 18,
   "metadata": {},
   "outputs": [],
   "source": [
    "#Cleaning rows that do not contain the relevant data\n",
    "for index, row in aviationData.iterrows():\n",
    "    if(row['Broad.Phase.of.Flight'] == 'UNKNOWN' or row['Broad.Phase.of.Flight'] == 'OTHER'):\n",
    "        aviationData = aviationData.drop(index)"
   ]
  },
  {
   "cell_type": "code",
   "execution_count": 19,
   "metadata": {},
   "outputs": [],
   "source": [
    "#Adding total passengers which is the sum of the below shown 4 columns\n",
    "aviationData['Total.Passengers'] = 0;\n",
    "for index, row in aviationData.iterrows():\n",
    "    totalPassengers = row['Total.Uninjured'] + row['Total.Serious.Injuries'] + row['Total.Fatal.Injuries'] + row['Total.Minor.Injuries']\n",
    "    aviationData.at[index, 'Total.Passengers'] = totalPassengers"
   ]
  },
  {
   "cell_type": "code",
   "execution_count": 20,
   "metadata": {},
   "outputs": [
    {
     "data": {
      "text/html": [
       "<div>\n",
       "<style scoped>\n",
       "    .dataframe tbody tr th:only-of-type {\n",
       "        vertical-align: middle;\n",
       "    }\n",
       "\n",
       "    .dataframe tbody tr th {\n",
       "        vertical-align: top;\n",
       "    }\n",
       "\n",
       "    .dataframe thead th {\n",
       "        text-align: right;\n",
       "    }\n",
       "</style>\n",
       "<table border=\"1\" class=\"dataframe\">\n",
       "  <thead>\n",
       "    <tr style=\"text-align: right;\">\n",
       "      <th></th>\n",
       "      <th>lat</th>\n",
       "      <th>lon</th>\n",
       "      <th>elev_meters</th>\n",
       "    </tr>\n",
       "  </thead>\n",
       "  <tbody>\n",
       "    <tr>\n",
       "      <th>0</th>\n",
       "      <td>39.128611</td>\n",
       "      <td>-123.715833</td>\n",
       "      <td>40.24</td>\n",
       "    </tr>\n",
       "  </tbody>\n",
       "</table>\n",
       "</div>"
      ],
      "text/plain": [
       "         lat         lon  elev_meters\n",
       "0  39.128611 -123.715833        40.24"
      ]
     },
     "execution_count": 20,
     "metadata": {},
     "output_type": "execute_result"
    }
   ],
   "source": [
    "#Using the given data in the dataset to determine the approximate altitude of the airplane during the accident\n",
    "\n",
    "import requests\n",
    "import urllib\n",
    "\n",
    "# USGS Elevation Point Query Service\n",
    "url = r'https://nationalmap.gov/epqs/pqs.php?'\n",
    "\n",
    "# create data frame\n",
    "df = pd.DataFrame({\n",
    "    'lat': aviationData['Latitude'][:1],\n",
    "    'lon': aviationData['Longitude'][:1]\n",
    "})\n",
    "\n",
    "def elevation_function(df, lat_column, lon_column):\n",
    "    \"\"\"Query service using lat, lon. add the elevation values as a new column.\"\"\"\n",
    "    elevations = []\n",
    "    for lat, lon in zip(df[lat_column], df[lon_column]):\n",
    "\n",
    "        # define rest query params\n",
    "        params = {\n",
    "            'output': 'json',\n",
    "            'x': lon,\n",
    "            'y': lat,\n",
    "            'units': 'Meters'\n",
    "        }\n",
    "\n",
    "        # format query string and return query value\n",
    "        result = requests.get((url + urllib.parse.urlencode(params)))\n",
    "        elevations.append(result.json()['USGS_Elevation_Point_Query_Service']['Elevation_Query']['Elevation'])\n",
    "\n",
    "    df['elev_meters'] = elevations\n",
    "\n",
    "elevation_function(df, 'lat', 'lon')\n",
    "df.head()"
   ]
  },
  {
   "cell_type": "code",
   "execution_count": 21,
   "metadata": {},
   "outputs": [
    {
     "data": {
      "text/html": [
       "<div>\n",
       "<style scoped>\n",
       "    .dataframe tbody tr th:only-of-type {\n",
       "        vertical-align: middle;\n",
       "    }\n",
       "\n",
       "    .dataframe tbody tr th {\n",
       "        vertical-align: top;\n",
       "    }\n",
       "\n",
       "    .dataframe thead th {\n",
       "        text-align: right;\n",
       "    }\n",
       "</style>\n",
       "<table border=\"1\" class=\"dataframe\">\n",
       "  <thead>\n",
       "    <tr style=\"text-align: right;\">\n",
       "      <th></th>\n",
       "      <th>Latitude</th>\n",
       "      <th>Longitude</th>\n",
       "      <th>Number.of.Engines</th>\n",
       "      <th>Total.Fatal.Injuries</th>\n",
       "      <th>Total.Serious.Injuries</th>\n",
       "      <th>Total.Minor.Injuries</th>\n",
       "      <th>Total.Uninjured</th>\n",
       "      <th>Total.Passengers</th>\n",
       "    </tr>\n",
       "  </thead>\n",
       "  <tbody>\n",
       "    <tr>\n",
       "      <th>count</th>\n",
       "      <td>14021.000000</td>\n",
       "      <td>14021.000000</td>\n",
       "      <td>14021.000000</td>\n",
       "      <td>14021.000000</td>\n",
       "      <td>14021.000000</td>\n",
       "      <td>14021.000000</td>\n",
       "      <td>14021.000000</td>\n",
       "      <td>14021.000000</td>\n",
       "    </tr>\n",
       "    <tr>\n",
       "      <th>mean</th>\n",
       "      <td>38.724372</td>\n",
       "      <td>-96.380080</td>\n",
       "      <td>1.241138</td>\n",
       "      <td>1.185935</td>\n",
       "      <td>0.251337</td>\n",
       "      <td>0.551102</td>\n",
       "      <td>21.479067</td>\n",
       "      <td>23.467442</td>\n",
       "    </tr>\n",
       "    <tr>\n",
       "      <th>std</th>\n",
       "      <td>8.522926</td>\n",
       "      <td>29.822537</td>\n",
       "      <td>0.546139</td>\n",
       "      <td>12.196420</td>\n",
       "      <td>2.293299</td>\n",
       "      <td>4.070795</td>\n",
       "      <td>61.272425</td>\n",
       "      <td>63.104552</td>\n",
       "    </tr>\n",
       "    <tr>\n",
       "      <th>min</th>\n",
       "      <td>-61.883334</td>\n",
       "      <td>-174.296666</td>\n",
       "      <td>1.000000</td>\n",
       "      <td>0.000000</td>\n",
       "      <td>0.000000</td>\n",
       "      <td>0.000000</td>\n",
       "      <td>0.000000</td>\n",
       "      <td>1.000000</td>\n",
       "    </tr>\n",
       "    <tr>\n",
       "      <th>25%</th>\n",
       "      <td>34.049166</td>\n",
       "      <td>-111.992777</td>\n",
       "      <td>1.000000</td>\n",
       "      <td>0.000000</td>\n",
       "      <td>0.000000</td>\n",
       "      <td>0.000000</td>\n",
       "      <td>0.000000</td>\n",
       "      <td>1.000000</td>\n",
       "    </tr>\n",
       "    <tr>\n",
       "      <th>50%</th>\n",
       "      <td>37.841807</td>\n",
       "      <td>-93.505928</td>\n",
       "      <td>1.000000</td>\n",
       "      <td>0.000000</td>\n",
       "      <td>0.000000</td>\n",
       "      <td>0.000000</td>\n",
       "      <td>1.000000</td>\n",
       "      <td>2.000000</td>\n",
       "    </tr>\n",
       "    <tr>\n",
       "      <th>75%</th>\n",
       "      <td>41.872778</td>\n",
       "      <td>-83.351667</td>\n",
       "      <td>1.000000</td>\n",
       "      <td>0.000000</td>\n",
       "      <td>0.000000</td>\n",
       "      <td>0.000000</td>\n",
       "      <td>2.000000</td>\n",
       "      <td>3.000000</td>\n",
       "    </tr>\n",
       "    <tr>\n",
       "      <th>max</th>\n",
       "      <td>87.145833</td>\n",
       "      <td>174.333333</td>\n",
       "      <td>4.000000</td>\n",
       "      <td>349.000000</td>\n",
       "      <td>111.000000</td>\n",
       "      <td>200.000000</td>\n",
       "      <td>699.000000</td>\n",
       "      <td>699.000000</td>\n",
       "    </tr>\n",
       "  </tbody>\n",
       "</table>\n",
       "</div>"
      ],
      "text/plain": [
       "           Latitude     Longitude  Number.of.Engines  Total.Fatal.Injuries  \\\n",
       "count  14021.000000  14021.000000       14021.000000          14021.000000   \n",
       "mean      38.724372    -96.380080           1.241138              1.185935   \n",
       "std        8.522926     29.822537           0.546139             12.196420   \n",
       "min      -61.883334   -174.296666           1.000000              0.000000   \n",
       "25%       34.049166   -111.992777           1.000000              0.000000   \n",
       "50%       37.841807    -93.505928           1.000000              0.000000   \n",
       "75%       41.872778    -83.351667           1.000000              0.000000   \n",
       "max       87.145833    174.333333           4.000000            349.000000   \n",
       "\n",
       "       Total.Serious.Injuries  Total.Minor.Injuries  Total.Uninjured  \\\n",
       "count            14021.000000          14021.000000     14021.000000   \n",
       "mean                 0.251337              0.551102        21.479067   \n",
       "std                  2.293299              4.070795        61.272425   \n",
       "min                  0.000000              0.000000         0.000000   \n",
       "25%                  0.000000              0.000000         0.000000   \n",
       "50%                  0.000000              0.000000         1.000000   \n",
       "75%                  0.000000              0.000000         2.000000   \n",
       "max                111.000000            200.000000       699.000000   \n",
       "\n",
       "       Total.Passengers  \n",
       "count      14021.000000  \n",
       "mean          23.467442  \n",
       "std           63.104552  \n",
       "min            1.000000  \n",
       "25%            1.000000  \n",
       "50%            2.000000  \n",
       "75%            3.000000  \n",
       "max          699.000000  "
      ]
     },
     "execution_count": 21,
     "metadata": {},
     "output_type": "execute_result"
    }
   ],
   "source": [
    "aviationData.describe()"
   ]
  },
  {
   "cell_type": "code",
   "execution_count": 22,
   "metadata": {},
   "outputs": [
    {
     "name": "stderr",
     "output_type": "stream",
     "text": [
      "C:\\Users\\Kenneth\\Anaconda3\\lib\\site-packages\\scipy\\stats\\stats.py:1713: FutureWarning: Using a non-tuple sequence for multidimensional indexing is deprecated; use `arr[tuple(seq)]` instead of `arr[seq]`. In the future this will be interpreted as an array index, `arr[np.array(seq)]`, which will result either in an error or a different result.\n",
      "  return np.add.reduce(sorted[indexer] * weights, axis=axis) / sumval\n"
     ]
    },
    {
     "data": {
      "text/plain": [
       "<matplotlib.axes._subplots.AxesSubplot at 0x1db96078dd8>"
      ]
     },
     "execution_count": 22,
     "metadata": {},
     "output_type": "execute_result"
    },
    {
     "data": {
      "image/png": "[encoded data removed]",
      "text/plain": [
       "<Figure size 1728x288 with 1 Axes>"
      ]
     },
     "metadata": {
      "needs_background": "light"
     },
     "output_type": "display_data"
    }
   ],
   "source": [
    "f, axes = plt.subplots(1, 1, figsize=(24, 4))\n",
    "sb.violinplot(aviationData['Total.Fatal.Injuries'], orient = \"h\", color = \"cornflowerblue\")"
   ]
  },
  {
   "cell_type": "code",
   "execution_count": 23,
   "metadata": {},
   "outputs": [],
   "source": [
    "aviationData.to_excel('Intermediate.xlsx')"
   ]
  },
  {
   "cell_type": "code",
   "execution_count": 24,
   "metadata": {},
   "outputs": [
    {
     "ename": "FileNotFoundError",
     "evalue": "File b'new.csv' does not exist",
     "output_type": "error",
     "traceback": [
      "\u001b[1;31m---------------------------------------------------------------------------\u001b[0m",
      "\u001b[1;31mFileNotFoundError\u001b[0m                         Traceback (most recent call last)",
      "\u001b[1;32m<ipython-input-24-219f66ac9e1c>\u001b[0m in \u001b[0;36m<module>\u001b[1;34m\u001b[0m\n\u001b[1;32m----> 1\u001b[1;33m \u001b[0maviationData\u001b[0m \u001b[1;33m=\u001b[0m \u001b[0mpd\u001b[0m\u001b[1;33m.\u001b[0m\u001b[0mread_csv\u001b[0m\u001b[1;33m(\u001b[0m\u001b[1;34m'new.csv'\u001b[0m\u001b[1;33m)\u001b[0m\u001b[1;33m\u001b[0m\u001b[1;33m\u001b[0m\u001b[0m\n\u001b[0m",
      "\u001b[1;32m~\\Anaconda3\\lib\\site-packages\\pandas\\io\\parsers.py\u001b[0m in \u001b[0;36mparser_f\u001b[1;34m(filepath_or_buffer, sep, delimiter, header, names, index_col, usecols, squeeze, prefix, mangle_dupe_cols, dtype, engine, converters, true_values, false_values, skipinitialspace, skiprows, nrows, na_values, keep_default_na, na_filter, verbose, skip_blank_lines, parse_dates, infer_datetime_format, keep_date_col, date_parser, dayfirst, iterator, chunksize, compression, thousands, decimal, lineterminator, quotechar, quoting, escapechar, comment, encoding, dialect, tupleize_cols, error_bad_lines, warn_bad_lines, skipfooter, doublequote, delim_whitespace, low_memory, memory_map, float_precision)\u001b[0m\n\u001b[0;32m    676\u001b[0m                     skip_blank_lines=skip_blank_lines)\n\u001b[0;32m    677\u001b[0m \u001b[1;33m\u001b[0m\u001b[0m\n\u001b[1;32m--> 678\u001b[1;33m         \u001b[1;32mreturn\u001b[0m \u001b[0m_read\u001b[0m\u001b[1;33m(\u001b[0m\u001b[0mfilepath_or_buffer\u001b[0m\u001b[1;33m,\u001b[0m \u001b[0mkwds\u001b[0m\u001b[1;33m)\u001b[0m\u001b[1;33m\u001b[0m\u001b[1;33m\u001b[0m\u001b[0m\n\u001b[0m\u001b[0;32m    679\u001b[0m \u001b[1;33m\u001b[0m\u001b[0m\n\u001b[0;32m    680\u001b[0m     \u001b[0mparser_f\u001b[0m\u001b[1;33m.\u001b[0m\u001b[0m__name__\u001b[0m \u001b[1;33m=\u001b[0m \u001b[0mname\u001b[0m\u001b[1;33m\u001b[0m\u001b[1;33m\u001b[0m\u001b[0m\n",
      "\u001b[1;32m~\\Anaconda3\\lib\\site-packages\\pandas\\io\\parsers.py\u001b[0m in \u001b[0;36m_read\u001b[1;34m(filepath_or_buffer, kwds)\u001b[0m\n\u001b[0;32m    438\u001b[0m \u001b[1;33m\u001b[0m\u001b[0m\n\u001b[0;32m    439\u001b[0m     \u001b[1;31m# Create the parser.\u001b[0m\u001b[1;33m\u001b[0m\u001b[1;33m\u001b[0m\u001b[1;33m\u001b[0m\u001b[0m\n\u001b[1;32m--> 440\u001b[1;33m     \u001b[0mparser\u001b[0m \u001b[1;33m=\u001b[0m \u001b[0mTextFileReader\u001b[0m\u001b[1;33m(\u001b[0m\u001b[0mfilepath_or_buffer\u001b[0m\u001b[1;33m,\u001b[0m \u001b[1;33m**\u001b[0m\u001b[0mkwds\u001b[0m\u001b[1;33m)\u001b[0m\u001b[1;33m\u001b[0m\u001b[1;33m\u001b[0m\u001b[0m\n\u001b[0m\u001b[0;32m    441\u001b[0m \u001b[1;33m\u001b[0m\u001b[0m\n\u001b[0;32m    442\u001b[0m     \u001b[1;32mif\u001b[0m \u001b[0mchunksize\u001b[0m \u001b[1;32mor\u001b[0m \u001b[0miterator\u001b[0m\u001b[1;33m:\u001b[0m\u001b[1;33m\u001b[0m\u001b[1;33m\u001b[0m\u001b[0m\n",
      "\u001b[1;32m~\\Anaconda3\\lib\\site-packages\\pandas\\io\\parsers.py\u001b[0m in \u001b[0;36m__init__\u001b[1;34m(self, f, engine, **kwds)\u001b[0m\n\u001b[0;32m    785\u001b[0m             \u001b[0mself\u001b[0m\u001b[1;33m.\u001b[0m\u001b[0moptions\u001b[0m\u001b[1;33m[\u001b[0m\u001b[1;34m'has_index_names'\u001b[0m\u001b[1;33m]\u001b[0m \u001b[1;33m=\u001b[0m \u001b[0mkwds\u001b[0m\u001b[1;33m[\u001b[0m\u001b[1;34m'has_index_names'\u001b[0m\u001b[1;33m]\u001b[0m\u001b[1;33m\u001b[0m\u001b[1;33m\u001b[0m\u001b[0m\n\u001b[0;32m    786\u001b[0m \u001b[1;33m\u001b[0m\u001b[0m\n\u001b[1;32m--> 787\u001b[1;33m         \u001b[0mself\u001b[0m\u001b[1;33m.\u001b[0m\u001b[0m_make_engine\u001b[0m\u001b[1;33m(\u001b[0m\u001b[0mself\u001b[0m\u001b[1;33m.\u001b[0m\u001b[0mengine\u001b[0m\u001b[1;33m)\u001b[0m\u001b[1;33m\u001b[0m\u001b[1;33m\u001b[0m\u001b[0m\n\u001b[0m\u001b[0;32m    788\u001b[0m \u001b[1;33m\u001b[0m\u001b[0m\n\u001b[0;32m    789\u001b[0m     \u001b[1;32mdef\u001b[0m \u001b[0mclose\u001b[0m\u001b[1;33m(\u001b[0m\u001b[0mself\u001b[0m\u001b[1;33m)\u001b[0m\u001b[1;33m:\u001b[0m\u001b[1;33m\u001b[0m\u001b[1;33m\u001b[0m\u001b[0m\n",
      "\u001b[1;32m~\\Anaconda3\\lib\\site-packages\\pandas\\io\\parsers.py\u001b[0m in \u001b[0;36m_make_engine\u001b[1;34m(self, engine)\u001b[0m\n\u001b[0;32m   1012\u001b[0m     \u001b[1;32mdef\u001b[0m \u001b[0m_make_engine\u001b[0m\u001b[1;33m(\u001b[0m\u001b[0mself\u001b[0m\u001b[1;33m,\u001b[0m \u001b[0mengine\u001b[0m\u001b[1;33m=\u001b[0m\u001b[1;34m'c'\u001b[0m\u001b[1;33m)\u001b[0m\u001b[1;33m:\u001b[0m\u001b[1;33m\u001b[0m\u001b[1;33m\u001b[0m\u001b[0m\n\u001b[0;32m   1013\u001b[0m         \u001b[1;32mif\u001b[0m \u001b[0mengine\u001b[0m \u001b[1;33m==\u001b[0m \u001b[1;34m'c'\u001b[0m\u001b[1;33m:\u001b[0m\u001b[1;33m\u001b[0m\u001b[1;33m\u001b[0m\u001b[0m\n\u001b[1;32m-> 1014\u001b[1;33m             \u001b[0mself\u001b[0m\u001b[1;33m.\u001b[0m\u001b[0m_engine\u001b[0m \u001b[1;33m=\u001b[0m \u001b[0mCParserWrapper\u001b[0m\u001b[1;33m(\u001b[0m\u001b[0mself\u001b[0m\u001b[1;33m.\u001b[0m\u001b[0mf\u001b[0m\u001b[1;33m,\u001b[0m \u001b[1;33m**\u001b[0m\u001b[0mself\u001b[0m\u001b[1;33m.\u001b[0m\u001b[0moptions\u001b[0m\u001b[1;33m)\u001b[0m\u001b[1;33m\u001b[0m\u001b[1;33m\u001b[0m\u001b[0m\n\u001b[0m\u001b[0;32m   1015\u001b[0m         \u001b[1;32melse\u001b[0m\u001b[1;33m:\u001b[0m\u001b[1;33m\u001b[0m\u001b[1;33m\u001b[0m\u001b[0m\n\u001b[0;32m   1016\u001b[0m             \u001b[1;32mif\u001b[0m \u001b[0mengine\u001b[0m \u001b[1;33m==\u001b[0m \u001b[1;34m'python'\u001b[0m\u001b[1;33m:\u001b[0m\u001b[1;33m\u001b[0m\u001b[1;33m\u001b[0m\u001b[0m\n",
      "\u001b[1;32m~\\Anaconda3\\lib\\site-packages\\pandas\\io\\parsers.py\u001b[0m in \u001b[0;36m__init__\u001b[1;34m(self, src, **kwds)\u001b[0m\n\u001b[0;32m   1706\u001b[0m         \u001b[0mkwds\u001b[0m\u001b[1;33m[\u001b[0m\u001b[1;34m'usecols'\u001b[0m\u001b[1;33m]\u001b[0m \u001b[1;33m=\u001b[0m \u001b[0mself\u001b[0m\u001b[1;33m.\u001b[0m\u001b[0musecols\u001b[0m\u001b[1;33m\u001b[0m\u001b[1;33m\u001b[0m\u001b[0m\n\u001b[0;32m   1707\u001b[0m \u001b[1;33m\u001b[0m\u001b[0m\n\u001b[1;32m-> 1708\u001b[1;33m         \u001b[0mself\u001b[0m\u001b[1;33m.\u001b[0m\u001b[0m_reader\u001b[0m \u001b[1;33m=\u001b[0m \u001b[0mparsers\u001b[0m\u001b[1;33m.\u001b[0m\u001b[0mTextReader\u001b[0m\u001b[1;33m(\u001b[0m\u001b[0msrc\u001b[0m\u001b[1;33m,\u001b[0m \u001b[1;33m**\u001b[0m\u001b[0mkwds\u001b[0m\u001b[1;33m)\u001b[0m\u001b[1;33m\u001b[0m\u001b[1;33m\u001b[0m\u001b[0m\n\u001b[0m\u001b[0;32m   1709\u001b[0m \u001b[1;33m\u001b[0m\u001b[0m\n\u001b[0;32m   1710\u001b[0m         \u001b[0mpassed_names\u001b[0m \u001b[1;33m=\u001b[0m \u001b[0mself\u001b[0m\u001b[1;33m.\u001b[0m\u001b[0mnames\u001b[0m \u001b[1;32mis\u001b[0m \u001b[1;32mNone\u001b[0m\u001b[1;33m\u001b[0m\u001b[1;33m\u001b[0m\u001b[0m\n",
      "\u001b[1;32mpandas\\_libs\\parsers.pyx\u001b[0m in \u001b[0;36mpandas._libs.parsers.TextReader.__cinit__\u001b[1;34m()\u001b[0m\n",
      "\u001b[1;32mpandas\\_libs\\parsers.pyx\u001b[0m in \u001b[0;36mpandas._libs.parsers.TextReader._setup_parser_source\u001b[1;34m()\u001b[0m\n",
      "\u001b[1;31mFileNotFoundError\u001b[0m: File b'new.csv' does not exist"
     ]
    }
   ],
   "source": [
    "aviationData = pd.read_csv('new.csv')"
   ]
  },
  {
   "cell_type": "code",
   "execution_count": null,
   "metadata": {},
   "outputs": [],
   "source": [
    "aviationData['Total.Injuries'] = 0\n",
    "for index, row in aviationData.iterrows():\n",
    "    totalInjuries = row['Total.Serious.Injuries'] + row['Total.Fatal.Injuries'] + row['Total.Minor.Injuries']\n",
    "    aviationData.at[index, 'Total.Injuries'] = totalInjuries"
   ]
  },
  {
   "cell_type": "code",
   "execution_count": null,
   "metadata": {},
   "outputs": [],
   "source": [
    "aviationData = aviationData.rename(columns={'altitude (m)': 'Altitude'})"
   ]
  },
  {
   "cell_type": "code",
   "execution_count": null,
   "metadata": {},
   "outputs": [],
   "source": [
    "#Dropping latitude and longitude as this is no longer required\n",
    "aviationData = aviationData.drop(['Latitude', 'Longitude', 'Make', 'Model', 'Amateur.Built', 'Aircraft.Category'], axis = 1)"
   ]
  },
  {
   "cell_type": "code",
   "execution_count": null,
   "metadata": {},
   "outputs": [],
   "source": [
    "aviationData.describe()"
   ]
  },
  {
   "cell_type": "code",
   "execution_count": null,
   "metadata": {},
   "outputs": [],
   "source": [
    "aviationData = aviationData[aviationData['Purpose.of.Flight'] != 'FIREFIGHTING']\n",
    "aviationData = aviationData[aviationData['Purpose.of.Flight'] != 'GLIDER TOW']\n",
    "aviationData = aviationData[aviationData['Purpose.of.Flight'] != 'AIR DROP']\n",
    "aviationData = aviationData[aviationData['Purpose.of.Flight'] != 'UNKNOWN']\n",
    "aviationData = aviationData[aviationData['Purpose.of.Flight'] != 'SKYDIVING']\n",
    "aviationData = aviationData[aviationData['Purpose.of.Flight'] != 'INSTRUCTIONAL']\n",
    "aviationData = aviationData[aviationData['Purpose.of.Flight'] != 'BANNER TOW']\n",
    "aviationData = aviationData[aviationData['Purpose.of.Flight'] != 'AERIAL OBSERVATION']\n",
    "aviationData = aviationData[aviationData['Purpose.of.Flight'] != 'AIR RACE/SHOW']\n",
    "aviationData = aviationData[aviationData['Purpose.of.Flight'] != 'AERIAL APPLICATION']\n",
    "aviationData = aviationData[aviationData['Weather.Condition'] != 'UNK']"
   ]
  },
  {
   "cell_type": "code",
   "execution_count": null,
   "metadata": {},
   "outputs": [],
   "source": [
    "for index, row in aviationData.iterrows():\n",
    "    if(aviationData.at[index, 'Purpose.of.Flight'] == 'PUBLIC AIRCRAFT - STATE' or aviationData.at[index, 'Purpose.of.Flight'] == 'PUBLIC AIRCRAFT - FEDERAL' or aviationData.at[index, 'Purpose.of.Flight'] == 'PUBLIC AIRCRAFT - LOCAL'):\n",
    "        aviationData.at[index, 'Purpose.of.Flight'] = 'PUBLIC AIRCRAFT'"
   ]
  },
  {
   "cell_type": "code",
   "execution_count": null,
   "metadata": {},
   "outputs": [],
   "source": [
    "aviationData = aviationData.dropna()"
   ]
  },
  {
   "cell_type": "code",
   "execution_count": null,
   "metadata": {},
   "outputs": [],
   "source": [
    "#Reinitializing the index values for the rows to make them ordered and sequential\n",
    "aviationData.index = range(len(aviationData))"
   ]
  },
  {
   "cell_type": "code",
   "execution_count": null,
   "metadata": {},
   "outputs": [],
   "source": [
    "#Altitude estimation based on factors such as flight type, phase of flight, and typical flying altitude at each of these phases\n",
    "for index, row in aviationData.iterrows():\n",
    "    if(aviationData.at[index, 'Broad.Phase.of.Flight'] == 'CRUISE' or aviationData.at[index, 'Broad.Phase.of.Flight'] == 'MANEUVERING' or aviationData.at[index, 'Broad.Phase.of.Flight'] == 'GO-AROUND'):\n",
    "        if(aviationData.at[index, 'Purpose.of.Flight'] == 'Personal'):\n",
    "            altitude = 12496.8 - aviationData.at[index, 'Altitude']\n",
    "            if(altitude > 0):\n",
    "                aviationData.at[index, 'Altitude'] = altitude\n",
    "        else:\n",
    "            altitude = 10972 - aviationData.at[index, 'Altitude']\n",
    "            if(altitude > 0):\n",
    "                aviationData.at[index, 'Altitude'] = altitude\n",
    "    \n",
    "    if(aviationData.at[index, 'Broad.Phase.of.Flight'] == 'APPROACH' or aviationData.at[index, 'Broad.Phase.of.Flight'] == 'DESCENT' or aviationData.at[index, 'Broad.Phase.of.Flight'] == 'CLIMB'):\n",
    "        altitude = 700 - aviationData.at[index, 'Altitude']\n",
    "        if(altitude > 0):\n",
    "            aviationData.at[index, 'Altitude'] = altitude"
   ]
  },
  {
   "cell_type": "code",
   "execution_count": null,
   "metadata": {},
   "outputs": [],
   "source": [
    "for index, row in aviationData.iterrows():\n",
    "    if(aviationData.at[index, 'Altitude'] < 0):\n",
    "        aviationData.at[index, 'Altitude'] = 0"
   ]
  },
  {
   "cell_type": "code",
   "execution_count": null,
   "metadata": {},
   "outputs": [],
   "source": [
    "aviationData"
   ]
  },
  {
   "cell_type": "code",
   "execution_count": null,
   "metadata": {},
   "outputs": [],
   "source": [
    "aviationData.to_excel('final.xlsx')"
   ]
  },
  {
   "cell_type": "markdown",
   "metadata": {},
   "source": [
    "# Exploratory Analysis"
   ]
  },
  {
   "cell_type": "markdown",
   "metadata": {},
   "source": [
    "## Numeric Data"
   ]
  },
  {
   "cell_type": "code",
   "execution_count": null,
   "metadata": {},
   "outputs": [],
   "source": [
    "aviationNumData = pd.DataFrame(aviationData[['Altitude', 'Total.Fatal.Injuries', 'Total.Serious.Injuries', 'Total.Uninjured', 'Total.Passengers', 'Total.Injuries']])"
   ]
  },
  {
   "cell_type": "code",
   "execution_count": null,
   "metadata": {},
   "outputs": [],
   "source": [
    "aviationNumData.head()"
   ]
  },
  {
   "cell_type": "code",
   "execution_count": null,
   "metadata": {},
   "outputs": [],
   "source": [
    "aviationNumData.info()"
   ]
  },
  {
   "cell_type": "code",
   "execution_count": null,
   "metadata": {},
   "outputs": [],
   "source": [
    "aviationNumData.shape"
   ]
  },
  {
   "cell_type": "code",
   "execution_count": null,
   "metadata": {},
   "outputs": [],
   "source": [
    "count = 0\n",
    "f, axes = plt.subplots(6, 3, figsize=(42, 25))\n",
    "\n",
    "for i in aviationNumData:\n",
    "    sb.boxplot(aviationData[i], orient = \"h\", ax = axes[count,0])\n",
    "    sb.distplot(aviationData[i], kde = False, ax = axes[count,1])\n",
    "    sb.violinplot(aviationData[i], ax = axes[count,2])\n",
    "    count += 1"
   ]
  },
  {
   "cell_type": "code",
   "execution_count": null,
   "metadata": {},
   "outputs": [],
   "source": [
    "print(aviationNumData.corr())\n",
    "f, axes = plt.subplots(1, 1, figsize=(20, 20))\n",
    "sb.heatmap(aviationNumData.corr(), vmin = -1, vmax = 1, linewidths = 1, annot = True, fmt = \".2f\", annot_kws = {\"size\": 18}, cmap = \"RdBu\")"
   ]
  },
  {
   "cell_type": "code",
   "execution_count": null,
   "metadata": {},
   "outputs": [],
   "source": [
    "sb.pairplot(data = aviationNumData)"
   ]
  },
  {
   "cell_type": "markdown",
   "metadata": {},
   "source": [
    "## Categorical Data"
   ]
  },
  {
   "cell_type": "code",
   "execution_count": null,
   "metadata": {},
   "outputs": [],
   "source": [
    "aviationCatData = pd.DataFrame(aviationData[['Injury.Severity', 'Aircraft.Damage', 'Number.of.Engines', 'Engine.Type', 'FAR.Description', 'Purpose.of.Flight', 'Weather.Condition', 'Broad.Phase.of.Flight', ]])"
   ]
  },
  {
   "cell_type": "code",
   "execution_count": null,
   "metadata": {},
   "outputs": [],
   "source": [
    "aviationCatData.head()"
   ]
  },
  {
   "cell_type": "code",
   "execution_count": null,
   "metadata": {},
   "outputs": [],
   "source": [
    "aviationCatData.info()"
   ]
  },
  {
   "cell_type": "code",
   "execution_count": null,
   "metadata": {},
   "outputs": [],
   "source": [
    "aviationCatData.shape"
   ]
  },
  {
   "cell_type": "code",
   "execution_count": null,
   "metadata": {},
   "outputs": [],
   "source": [
    "for i in aviationCatData:\n",
    "    sb.catplot(y = i, data = aviationCatData, kind = \"count\", height = 5, aspect = 4)"
   ]
  },
  {
   "cell_type": "code",
   "execution_count": null,
   "metadata": {},
   "outputs": [],
   "source": [
    "for j in aviationCatData:\n",
    "    f, axes = plt.subplots(1, 1, figsize=(16, 8))\n",
    "    sb.boxplot(x = j, y = 'Altitude', data = aviationData)"
   ]
  },
  {
   "cell_type": "code",
   "execution_count": null,
   "metadata": {},
   "outputs": [],
   "source": [
    "for j in aviationCatData:\n",
    "    if(i == 'Engine.Type' or i == 'Number.of.Engines' or i == 'Injury.Severity' or i == 'Engine.Type'):\n",
    "        continue\n",
    "        \n",
    "    f, axes = plt.subplots(1, 1, figsize=(16, 8))\n",
    "    sb.boxplot(x = j, y = 'Total.Fatal.Injuries', data = aviationData)"
   ]
  },
  {
   "cell_type": "code",
   "execution_count": null,
   "metadata": {},
   "outputs": [],
   "source": [
    "for j in aviationCatData:\n",
    "    if(i == 'Engine.Type' or i == 'Number.of.Engines' or i == 'Injury.Severity' or i == 'Engine.Type'):\n",
    "        continue\n",
    "        \n",
    "    f, axes = plt.subplots(1, 1, figsize=(16, 8))\n",
    "    sb.boxplot(x = j, y = 'Total.Serious.Injuries', data = aviationData)"
   ]
  },
  {
   "cell_type": "code",
   "execution_count": null,
   "metadata": {},
   "outputs": [],
   "source": [
    "for j in aviationCatData:\n",
    "    if(i == 'Engine.Type' or i == 'Number.of.Engines' or i == 'Injury.Severity' or i == 'Engine.Type'):\n",
    "        continue\n",
    "        \n",
    "    f, axes = plt.subplots(1, 1, figsize=(16, 8))\n",
    "    sb.boxplot(x = j, y = 'Total.Minor.Injuries', data = aviationData)"
   ]
  },
  {
   "cell_type": "code",
   "execution_count": null,
   "metadata": {},
   "outputs": [],
   "source": [
    "for j in aviationCatData:\n",
    "    if(i == 'Engine.Type' or i == 'Number.of.Engines' or i == 'Injury.Severity' or i == 'Engine.Type'):\n",
    "        continue\n",
    "        \n",
    "    f, axes = plt.subplots(1, 1, figsize=(16, 8))\n",
    "    sb.boxplot(x = j, y = 'Total.Injuries', data = aviationData)"
   ]
  },
  {
   "cell_type": "code",
   "execution_count": null,
   "metadata": {},
   "outputs": [],
   "source": [
    "f, axes = plt.subplots(1, 1, figsize=(20, 12))\n",
    "sb.heatmap(aviationCatData.groupby(['Aircraft.Damage', 'Injury.Severity']).size().unstack(), \n",
    "           linewidths = 1, annot = True, fmt = 'g', annot_kws = {\"size\": 18}, cmap = \"BuGn\")"
   ]
  },
  {
   "cell_type": "code",
   "execution_count": null,
   "metadata": {},
   "outputs": [],
   "source": [
    "f, axes = plt.subplots(1, 1, figsize=(20, 12))\n",
    "sb.heatmap(aviationCatData.groupby(['Aircraft.Damage', 'Weather.Condition']).size().unstack(), \n",
    "           linewidths = 1, annot = True, fmt = 'g', annot_kws = {\"size\": 18}, cmap = \"BuGn\")"
   ]
  },
  {
   "cell_type": "code",
   "execution_count": null,
   "metadata": {},
   "outputs": [],
   "source": [
    "f, axes = plt.subplots(1, 1, figsize=(20, 12))\n",
    "sb.heatmap(aviationCatData.groupby(['Aircraft.Damage', 'Broad.Phase.of.Flight']).size().unstack(), \n",
    "           linewidths = 1, annot = True, fmt = 'g', annot_kws = {\"size\": 18}, cmap = \"BuGn\")"
   ]
  },
  {
   "cell_type": "code",
   "execution_count": null,
   "metadata": {},
   "outputs": [],
   "source": [
    "f, axes = plt.subplots(1, 1, figsize=(20, 12))\n",
    "sb.heatmap(aviationCatData.groupby(['Aircraft.Damage', 'Number.of.Engines']).size().unstack(), \n",
    "           linewidths = 1, annot = True, fmt = 'g', annot_kws = {\"size\": 18}, cmap = \"BuGn\")"
   ]
  },
  {
   "cell_type": "code",
   "execution_count": null,
   "metadata": {},
   "outputs": [],
   "source": [
    "aviationData.mode()"
   ]
  },
  {
   "cell_type": "code",
   "execution_count": null,
   "metadata": {},
   "outputs": [],
   "source": []
  }
 ],
 "metadata": {
  "kernelspec": {
   "display_name": "Python 3",
   "language": "python",
   "name": "python3"
  },
  "language_info": {
   "codemirror_mode": {
    "name": "ipython",
    "version": 3
   },
   "file_extension": ".py",
   "mimetype": "text/x-python",
   "name": "python",
   "nbconvert_exporter": "python",
   "pygments_lexer": "ipython3",
   "version": "3.7.1"
  }
 },
 "nbformat": 4,
 "nbformat_minor": 2
}
